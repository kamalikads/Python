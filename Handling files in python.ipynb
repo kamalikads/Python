{
 "cells": [
  {
   "cell_type": "markdown",
   "metadata": {},
   "source": [
    "# What is File?\n",
    "* Files are named locations on disk to store information\n",
    "* They are used to store data permanently\n",
    "* Data is stored in non-volatile memory\n",
    "* We can retrieve data whenever required\n",
    "\n",
    "# Types of files-\n",
    "\n",
    "* Text files:\n",
    "    Stores data in the form of charavters. it is used to store\n",
    "    data and strings.\n",
    "    example: .text,.jsone,\n",
    "    \n",
    "* Binary files: Stores data in the form of bytes(group of 8 bits).\n",
    "    example: Audio files, video files    \n",
    "# What is file handlings?\n",
    "File handling means:\n",
    "    * **Opening** a file.\n",
    "    * **Performing** some operations on it.\n",
    "    * **Closing** a file\n",
    "# Data store Two ways:\n",
    "\n",
    "1. **File handling**\n",
    "2. **Database**\n"
   ]
  },
  {
   "cell_type": "code",
   "execution_count": 1,
   "metadata": {},
   "outputs": [
    {
     "name": "stdout",
     "output_type": "stream",
     "text": [
      "Enter your age:28\n"
     ]
    }
   ],
   "source": [
    "age = input('Enter your age:')\n",
    "f= open('data.text', 'w')\n",
    "f.write(age)\n",
    "f.close()"
   ]
  },
  {
   "cell_type": "code",
   "execution_count": 3,
   "metadata": {},
   "outputs": [
    {
     "name": "stdout",
     "output_type": "stream",
     "text": [
      "28\n"
     ]
    }
   ],
   "source": [
    "f=open('data.text', 'r')\n",
    "print(f.read())\n"
   ]
  },
  {
   "cell_type": "code",
   "execution_count": 4,
   "metadata": {},
   "outputs": [],
   "source": [
    "f.close()"
   ]
  },
  {
   "cell_type": "markdown",
   "metadata": {},
   "source": [
    "# Opening file\n",
    "\n",
    "    python provides an in-built function open() to open a file.\n",
    "    \n",
    "    Syntax:\n",
    "        f= open(filename, mode='r', encoding= None,\n",
    "                errors=None, newline=None, closefd=True)\n",
    "\n",
    "        f=open(filename,mode='r')\n",
    "          1. filename: file to be accessed\n",
    "          2. mode: access mode (purpose of opening file.)\n",
    "          3. f : file handler, file pointer\n",
    "\n",
    "## Different modes:\n",
    "1. \"r\" - Read - Default value. Opens a file for reading, error if the file does not exist\n",
    "\n",
    "2. \"a\" - Append - Opens a file for appending, creates the file if it does not exist\n",
    "\n",
    "3. \"w\" - Write - Opens a file for writing, creates the file if it does not exist\n",
    "\n",
    "4. \"x\" - Create - Creates the specified file, returns an error if the file exists\n",
    "  \n",
    "  \n",
    "  In addition you can specify if the file should be handled as binary or text mode.\n",
    "  \n",
    "5. \"t\" - Text - Default value. Text mode\n",
    "\n",
    "6. \"b\" - Binary - Binary mode (e.g. images)\n"
   ]
  },
  {
   "cell_type": "code",
   "execution_count": 58,
   "metadata": {},
   "outputs": [],
   "source": [
    "files1 ='''Hello! Welcome to demofile.txt\n",
    "        This file is for testing purposes.\n",
    "        Good Luck. '''\n",
    "d = open('demofile.txt','w')\n",
    "d.write(files1)\n",
    "d.close()"
   ]
  },
  {
   "cell_type": "markdown",
   "metadata": {},
   "source": [
    "# Read only parts of the File\n",
    "By default the read() method returns the whole text, \n",
    "but you can also specify how many characters you want to return:"
   ]
  },
  {
   "cell_type": "code",
   "execution_count": 59,
   "metadata": {},
   "outputs": [
    {
     "name": "stdout",
     "output_type": "stream",
     "text": [
      "Hello\n"
     ]
    }
   ],
   "source": [
    "f = open('demofile.txt','r')\n",
    "print(f.read(5))"
   ]
  },
  {
   "cell_type": "code",
   "execution_count": 60,
   "metadata": {},
   "outputs": [],
   "source": [
    "f.close()"
   ]
  },
  {
   "cell_type": "markdown",
   "metadata": {},
   "source": [
    "# Read Lines\n",
    "You can return one line by using the readline() method"
   ]
  },
  {
   "cell_type": "code",
   "execution_count": 61,
   "metadata": {},
   "outputs": [
    {
     "name": "stdout",
     "output_type": "stream",
     "text": [
      "Hello! Welcome to demofile.txt\n",
      "\n"
     ]
    }
   ],
   "source": [
    "f = open('demofile.txt', 'r')\n",
    "print(f.readline())"
   ]
  },
  {
   "cell_type": "code",
   "execution_count": 62,
   "metadata": {},
   "outputs": [],
   "source": [
    "f.close()"
   ]
  },
  {
   "cell_type": "markdown",
   "metadata": {},
   "source": [
    "By calling readline() two times, you can read the two first lines."
   ]
  },
  {
   "cell_type": "code",
   "execution_count": 63,
   "metadata": {},
   "outputs": [
    {
     "name": "stdout",
     "output_type": "stream",
     "text": [
      "Hello! Welcome to demofile.txt\n",
      "\n",
      "        This file is for testing purposes.\n",
      "\n"
     ]
    }
   ],
   "source": [
    "k = open('demofile.txt', 'r')\n",
    "print(k.readline())\n",
    "print(k.readline())\n",
    "k.close()"
   ]
  },
  {
   "cell_type": "markdown",
   "metadata": {},
   "source": [
    "By looping through the lines of the file, you can read the whole file,\n",
    "line by line."
   ]
  },
  {
   "cell_type": "code",
   "execution_count": 64,
   "metadata": {},
   "outputs": [
    {
     "name": "stdout",
     "output_type": "stream",
     "text": [
      "Hello! Welcome to demofile.txt\n",
      "\n",
      "        This file is for testing purposes.\n",
      "\n",
      "        Good Luck. \n"
     ]
    }
   ],
   "source": [
    "f = open('demofile.txt', 'r')\n",
    "for x in f:\n",
    "    print(x)"
   ]
  },
  {
   "cell_type": "code",
   "execution_count": 65,
   "metadata": {},
   "outputs": [],
   "source": [
    "f.close()"
   ]
  },
  {
   "cell_type": "markdown",
   "metadata": {},
   "source": [
    "**Note**: You should always close your files. In some cases, due to buffering, changes made to a file may not show untile you close the file."
   ]
  },
  {
   "cell_type": "markdown",
   "metadata": {},
   "source": [
    "# Python File Write\n",
    "\n",
    "## Write to an Existing File\n",
    "\n",
    "\"a\" - Append - will append to the end of the file\n",
    "\n",
    "\"w\" - Write - will overwrite any existing content"
   ]
  },
  {
   "cell_type": "code",
   "execution_count": 66,
   "metadata": {},
   "outputs": [],
   "source": [
    "files2 ='''Hello! Welcome to demofile.txt\n",
    "        This file is for testing purposes.\n",
    "        Good Luck. '''\n",
    "d = open('demofile2.txt','w')\n",
    "d.write(files2)\n",
    "d.close()"
   ]
  },
  {
   "cell_type": "code",
   "execution_count": 67,
   "metadata": {},
   "outputs": [],
   "source": [
    "f = open('demofile2.txt','a')\n",
    "f.write(\"Now the file has more content!\")\n",
    "f.close()"
   ]
  },
  {
   "cell_type": "code",
   "execution_count": 68,
   "metadata": {},
   "outputs": [
    {
     "name": "stdout",
     "output_type": "stream",
     "text": [
      "Hello! Welcome to demofile.txt\n",
      "        This file is for testing purposes.\n",
      "        Good Luck. Now the file has more content!\n"
     ]
    }
   ],
   "source": [
    "f = open('demofile2.txt','r')\n",
    "print(f.read())\n"
   ]
  },
  {
   "cell_type": "code",
   "execution_count": 69,
   "metadata": {},
   "outputs": [],
   "source": [
    "f.close()"
   ]
  },
  {
   "cell_type": "markdown",
   "metadata": {},
   "source": [
    "Overwrite the content"
   ]
  },
  {
   "cell_type": "code",
   "execution_count": 77,
   "metadata": {},
   "outputs": [],
   "source": [
    "files3 ='''Hello! Welcome to demofile.txt\n",
    "        This file is for testing purposes.\n",
    "        Good Luck. '''\n",
    "d = open('demofile3.txt','w')\n",
    "d.write(files3)\n",
    "d.close()"
   ]
  },
  {
   "cell_type": "code",
   "execution_count": 78,
   "metadata": {},
   "outputs": [],
   "source": [
    "f = open('demofile3.txt', 'w')\n",
    "f.write('Woops! I have deleted the content!')\n",
    "f.close()"
   ]
  },
  {
   "cell_type": "code",
   "execution_count": 79,
   "metadata": {},
   "outputs": [
    {
     "name": "stdout",
     "output_type": "stream",
     "text": [
      "Woops! I have deleted the content!\n"
     ]
    }
   ],
   "source": [
    "f= open('demofile3.txt', 'r')\n",
    "print(f.read())"
   ]
  },
  {
   "cell_type": "markdown",
   "metadata": {},
   "source": [
    "## Create a New File\n",
    "\n",
    "To create a new file in Python, use the open() method, with one of the following parameters:\n",
    "\n",
    "\"x\" - Create - will create a file, returns an error if the file exists\n",
    "\n",
    "\"a\" - Append - will create a file if the specified file does not exists\n",
    "\n",
    "\"w\" - Write - will create a file if the specified file does not exists"
   ]
  },
  {
   "cell_type": "code",
   "execution_count": 116,
   "metadata": {},
   "outputs": [],
   "source": [
    "f = open ('my file.txt', 'x')"
   ]
  },
  {
   "cell_type": "markdown",
   "metadata": {},
   "source": [
    "# Delete a File\n",
    "To delete a file, you must import the OS module, and run its os.remove() function.\n",
    "\n"
   ]
  },
  {
   "cell_type": "code",
   "execution_count": 80,
   "metadata": {},
   "outputs": [],
   "source": [
    "import os"
   ]
  },
  {
   "cell_type": "markdown",
   "metadata": {},
   "source": [
    "More about os module (https://www.w3schools.com/python/module_os.asp?ref=escape.tech)"
   ]
  },
  {
   "cell_type": "code",
   "execution_count": 82,
   "metadata": {},
   "outputs": [],
   "source": [
    "f= open('demofile.txt', 'r')\n",
    "f.close()\n",
    "os.remove('demofile3.txt')"
   ]
  },
  {
   "cell_type": "code",
   "execution_count": 89,
   "metadata": {},
   "outputs": [],
   "source": [
    "f = open('my file.txt','r')\n",
    "f.close()\n",
    "os.remove('my file.txt')"
   ]
  },
  {
   "cell_type": "markdown",
   "metadata": {},
   "source": [
    "## Check if file exist\n",
    "To avoid getting an error, you might want to check if the file exist before you try to delete it."
   ]
  },
  {
   "cell_type": "code",
   "execution_count": 90,
   "metadata": {},
   "outputs": [],
   "source": [
    "if os.path.exists('demofile.txt'):\n",
    "    os.remove('demofile.txt')\n",
    "else:\n",
    "    print('The file does not exist')"
   ]
  },
  {
   "cell_type": "markdown",
   "metadata": {},
   "source": [
    "## Create a Folder by .os\n",
    "To Create a Single folder, use the os.mkdir() method"
   ]
  },
  {
   "cell_type": "code",
   "execution_count": 109,
   "metadata": {},
   "outputs": [],
   "source": [
    "os.mkdir('myfolder')"
   ]
  },
  {
   "cell_type": "markdown",
   "metadata": {},
   "source": [
    "To Creates Nested Folders, use the os.makedirs() method"
   ]
  },
  {
   "cell_type": "code",
   "execution_count": 93,
   "metadata": {},
   "outputs": [],
   "source": [
    "os.makedirs('parentfolder/childfolder')"
   ]
  },
  {
   "cell_type": "code",
   "execution_count": 98,
   "metadata": {
    "scrolled": true
   },
   "outputs": [],
   "source": [
    "os.makedirs('myfolder/folder') # in here I create a folder under my exsiting folder'myfolder'."
   ]
  },
  {
   "cell_type": "markdown",
   "metadata": {},
   "source": [
    "## Delete Folder\n",
    "To delete an entire folder, use the **os.rmdir()** method"
   ]
  },
  {
   "cell_type": "code",
   "execution_count": 110,
   "metadata": {},
   "outputs": [],
   "source": [
    "os.rmdir('myfolder') # if it's empty othen then it's raises an OSError"
   ]
  },
  {
   "cell_type": "markdown",
   "metadata": {},
   "source": [
    "To delete nested folder we need to import shutill"
   ]
  },
  {
   "cell_type": "code",
   "execution_count": 113,
   "metadata": {},
   "outputs": [],
   "source": [
    "import shutil"
   ]
  },
  {
   "cell_type": "markdown",
   "metadata": {},
   "source": [
    "more about shutil module (https://docs.python.org/3/library/shutil.html)"
   ]
  },
  {
   "cell_type": "markdown",
   "metadata": {},
   "source": [
    "To delete nested folder, use the shutil.rmtree() method"
   ]
  },
  {
   "cell_type": "code",
   "execution_count": 114,
   "metadata": {},
   "outputs": [],
   "source": [
    "shutil.rmtree('parentfolder')"
   ]
  },
  {
   "cell_type": "code",
   "execution_count": null,
   "metadata": {},
   "outputs": [],
   "source": []
  }
 ],
 "metadata": {
  "kernelspec": {
   "display_name": "Python 3",
   "language": "python",
   "name": "python3"
  },
  "language_info": {
   "codemirror_mode": {
    "name": "ipython",
    "version": 3
   },
   "file_extension": ".py",
   "mimetype": "text/x-python",
   "name": "python",
   "nbconvert_exporter": "python",
   "pygments_lexer": "ipython3",
   "version": "3.7.6"
  }
 },
 "nbformat": 4,
 "nbformat_minor": 4
}
